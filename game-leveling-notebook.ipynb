{
 "cells": [
  {
   "cell_type": "code",
   "execution_count": 39,
   "id": "bottom-hospital",
   "metadata": {},
   "outputs": [
    {
     "name": "stdout",
     "output_type": "stream",
     "text": [
      "frozen_lake/\n",
      "frozen_lake/__init__.py\n",
      "frozen_lake/config.py\n",
      "frozen_lake/environment.py\n",
      "frozen_lake/evaluate.py\n",
      "frozen_lake/memory.py\n",
      "frozen_lake/model.py\n",
      "frozen_lake/state.py\n",
      "frozen_lake/train.py\n",
      "frozen_lake/utils.py\n",
      "main.py\n",
      "requirements.txt\n",
      "setup.py\n"
     ]
    },
    {
     "name": "stderr",
     "output_type": "stream",
     "text": [
      "  % Total    % Received % Xferd  Average Speed   Time    Time     Time  Current\n",
      "                                 Dload  Upload   Total   Spent    Left  Speed\n",
      "\r",
      "  0     0    0     0    0     0      0      0 --:--:-- --:--:-- --:--:--     0\r",
      "  0     0    0     0    0     0      0      0 --:--:-- --:--:-- --:--:--     0\r",
      "100  4223  100  4223    0     0  11231      0 --:--:-- --:--:-- --:--:-- 11201\n"
     ]
    }
   ],
   "source": [
    "%%bash\n",
    "mkdir -p ~/SageMaker/frozen-lake\n",
    "curl https://s3.amazonaws.com/sagemaker-us-east-1-537534971119/frozen-lake.tar.gz > frozen-lake.tar.gz\n",
    "tar xvzf frozen-lake.tar.gz -C ~/SageMaker/frozen-lake/\n"
   ]
  },
  {
   "cell_type": "code",
   "execution_count": null,
   "id": "complete-symphony",
   "metadata": {},
   "outputs": [],
   "source": [
    "!pip install -e ~/SageMaker/frozen-lake\n"
   ]
  },
  {
   "cell_type": "code",
   "execution_count": 78,
   "id": "apart-secret",
   "metadata": {},
   "outputs": [],
   "source": [
    "%matplotlib inline\n",
    "import matplotlib.pyplot as plt\n",
    "\n",
    "import numpy as np\n",
    "import pandas as pd\n",
    "import torch\n",
    "from gym.envs.toy_text.frozen_lake import FrozenLakeEnv\n",
    "\n",
    "from sagemaker import get_execution_role\n",
    "from sagemaker.pytorch import PyTorch\n",
    "from sagemaker.tuner import (\n",
    "    HyperparameterTuner,\n",
    "    ContinuousParameter,\n",
    "    IntegerParameter,\n",
    ")\n",
    "\n",
    "from frozen_lake import (\n",
    "    Level, LeveledFrozenLake,\n",
    "    play_level, train, DeepQConfig,\n",
    "    get_state, DeepQNetwork, moving_average,\n",
    "    play_manually, get_test_level\n",
    ")\n"
   ]
  },
  {
   "cell_type": "code",
   "execution_count": 79,
   "id": "royal-interference",
   "metadata": {},
   "outputs": [
    {
     "name": "stdout",
     "output_type": "stream",
     "text": [
      "\n",
      "\u001b[41mS\u001b[0mFFF\n",
      "FHFH\n",
      "FFFH\n",
      "HFFG\n"
     ]
    }
   ],
   "source": [
    "# 初始化env,  gameBoard: Start Frozen Hole Goal\n",
    "env = FrozenLakeEnv()\n",
    "env.render()\n"
   ]
  },
  {
   "cell_type": "code",
   "execution_count": 80,
   "id": "proved-option",
   "metadata": {},
   "outputs": [
    {
     "data": {
      "text/plain": [
       "0"
      ]
     },
     "execution_count": 80,
     "metadata": {},
     "output_type": "execute_result"
    }
   ],
   "source": [
    "# 打印 current state\n",
    ">>> env.s"
   ]
  },
  {
   "cell_type": "code",
   "execution_count": 81,
   "id": "global-persian",
   "metadata": {},
   "outputs": [
    {
     "name": "stdout",
     "output_type": "stream",
     "text": [
      "\n",
      "\u001b[41mS\u001b[0mFFF\n",
      "FHFH\n",
      "FFFH\n",
      "HFFG\n"
     ]
    }
   ],
   "source": [
    "\n",
    "env = FrozenLakeEnv(is_slippery=False)\n",
    "env.render()\n"
   ]
  },
  {
   "cell_type": "code",
   "execution_count": 82,
   "id": "continent-floating",
   "metadata": {},
   "outputs": [
    {
     "name": "stdout",
     "output_type": "stream",
     "text": [
      "  (Down)\n",
      "SFFF\n",
      "\u001b[41mF\u001b[0mHFH\n",
      "FFFH\n",
      "HFFG\n"
     ]
    }
   ],
   "source": [
    "#进入H或G游戏结束\n",
    "LEFT = 0\n",
    "DOWN = 1\n",
    "RIGHT = 2\n",
    "UP = 3\n",
    "\n",
    "env.step(DOWN)\n",
    "env.render()\n"
   ]
  },
  {
   "cell_type": "code",
   "execution_count": 83,
   "id": "executive-warren",
   "metadata": {},
   "outputs": [
    {
     "name": "stdout",
     "output_type": "stream",
     "text": [
      "  (Down)\n",
      "SFFF\n",
      "FHFH\n",
      "\u001b[41mF\u001b[0mFFH\n",
      "HFFG\n"
     ]
    }
   ],
   "source": [
    "env.step(DOWN)\n",
    "env.render()"
   ]
  },
  {
   "cell_type": "code",
   "execution_count": 84,
   "id": "domestic-lighting",
   "metadata": {},
   "outputs": [
    {
     "name": "stdout",
     "output_type": "stream",
     "text": [
      "  (Down)\n",
      "SFFF\n",
      "FHFH\n",
      "FFFH\n",
      "HF\u001b[41mF\u001b[0mG\n"
     ]
    }
   ],
   "source": [
    "env.step(RIGHT)\n",
    "env.step(RIGHT)\n",
    "env.step(DOWN)\n",
    "env.render()"
   ]
  },
  {
   "cell_type": "code",
   "execution_count": 85,
   "id": "severe-catalog",
   "metadata": {},
   "outputs": [
    {
     "name": "stdout",
     "output_type": "stream",
     "text": [
      "  (Right)\n",
      "SFFF\n",
      "FHFH\n",
      "FFFH\n",
      "HFF\u001b[41mG\u001b[0m\n"
     ]
    }
   ],
   "source": [
    "env.step(RIGHT)\n",
    "env.render()"
   ]
  },
  {
   "cell_type": "code",
   "execution_count": 86,
   "id": "confirmed-workshop",
   "metadata": {},
   "outputs": [
    {
     "name": "stdout",
     "output_type": "stream",
     "text": [
      "  (Left)\n",
      "SFFF\n",
      "FHFH\n",
      "FFFH\n",
      "HFF\u001b[41mG\u001b[0m\n"
     ]
    }
   ],
   "source": [
    "env.step(LEFT)\n",
    "env.render()"
   ]
  },
  {
   "cell_type": "code",
   "execution_count": 87,
   "id": "mineral-focus",
   "metadata": {},
   "outputs": [
    {
     "ename": "NameError",
     "evalue": "name 'ent' is not defined",
     "output_type": "error",
     "traceback": [
      "\u001b[0;31m---------------------------------------------------------------------------\u001b[0m",
      "\u001b[0;31mNameError\u001b[0m                                 Traceback (most recent call last)",
      "\u001b[0;32m<ipython-input-87-a430e6f3e2cc>\u001b[0m in \u001b[0;36m<module>\u001b[0;34m\u001b[0m\n\u001b[0;32m----> 1\u001b[0;31m \u001b[0ment\u001b[0m\u001b[0;34m.\u001b[0m\u001b[0mreset\u001b[0m\u001b[0;34m(\u001b[0m\u001b[0;34m)\u001b[0m\u001b[0;34m\u001b[0m\u001b[0;34m\u001b[0m\u001b[0m\n\u001b[0m",
      "\u001b[0;31mNameError\u001b[0m: name 'ent' is not defined"
     ]
    }
   ],
   "source": [
    "ent.reset()"
   ]
  },
  {
   "cell_type": "code",
   "execution_count": 88,
   "id": "trained-newfoundland",
   "metadata": {},
   "outputs": [
    {
     "data": {
      "text/plain": [
       "0"
      ]
     },
     "execution_count": 88,
     "metadata": {},
     "output_type": "execute_result"
    }
   ],
   "source": [
    "env.reset()"
   ]
  },
  {
   "cell_type": "code",
   "execution_count": 89,
   "id": "approved-dietary",
   "metadata": {},
   "outputs": [
    {
     "name": "stdout",
     "output_type": "stream",
     "text": [
      "  (Right)\n",
      "SFFF\n",
      "FHF\u001b[41mH\u001b[0m\n",
      "FFFH\n",
      "HFFG\n"
     ]
    },
    {
     "data": {
      "application/vnd.jupyter.widget-view+json": {
       "model_id": "050ab45150e448a3932b494269ea5a26",
       "version_major": 2,
       "version_minor": 0
      },
      "text/plain": [
       "VBox(children=(HBox(children=(Button(disabled=True, style=ButtonStyle()), Button(description='UP', style=Butto…"
      ]
     },
     "metadata": {},
     "output_type": "display_data"
    },
    {
     "name": "stdout",
     "output_type": "stream",
     "text": [
      "-- Lose --\n"
     ]
    }
   ],
   "source": [
    "# slipper分别开和关，进行游戏\n",
    "# 手动模式体验游戏\n",
    "env = FrozenLakeEnv(is_slippery=False)\n",
    "play_manually(env)\n"
   ]
  },
  {
   "cell_type": "code",
   "execution_count": 90,
   "id": "polyphonic-verification",
   "metadata": {},
   "outputs": [
    {
     "name": "stdout",
     "output_type": "stream",
     "text": [
      "  (Right)\n",
      "SFFF\n",
      "FHFH\n",
      "FFFH\n",
      "HFF\u001b[41mG\u001b[0m\n"
     ]
    },
    {
     "data": {
      "application/vnd.jupyter.widget-view+json": {
       "model_id": "10912d0f37ec4545b99535c5fba3cefe",
       "version_major": 2,
       "version_minor": 0
      },
      "text/plain": [
       "VBox(children=(HBox(children=(Button(disabled=True, style=ButtonStyle()), Button(description='UP', style=Butto…"
      ]
     },
     "metadata": {},
     "output_type": "display_data"
    },
    {
     "name": "stdout",
     "output_type": "stream",
     "text": [
      "-- Win --\n"
     ]
    }
   ],
   "source": [
    "env.reset()\n",
    "play_manually(env)"
   ]
  },
  {
   "cell_type": "code",
   "execution_count": 91,
   "id": "quantitative-services",
   "metadata": {},
   "outputs": [
    {
     "name": "stdout",
     "output_type": "stream",
     "text": [
      "  (Right)\n",
      "SFFF\n",
      "\u001b[41mF\u001b[0mHFH\n",
      "FFFH\n",
      "HFFG\n"
     ]
    },
    {
     "data": {
      "application/vnd.jupyter.widget-view+json": {
       "model_id": "28cce8a994c240dd8ba67857be3a0b6a",
       "version_major": 2,
       "version_minor": 0
      },
      "text/plain": [
       "VBox(children=(HBox(children=(Button(disabled=True, style=ButtonStyle()), Button(description='UP', style=Butto…"
      ]
     },
     "metadata": {},
     "output_type": "display_data"
    }
   ],
   "source": [
    "# 打开slipper体验游戏，冰面会很滑导致方向随机， 三选一。\n",
    "env = FrozenLakeEnv(is_slippery=True)\n",
    "play_manually(env)\n"
   ]
  },
  {
   "cell_type": "code",
   "execution_count": 92,
   "id": "naked-vertical",
   "metadata": {},
   "outputs": [
    {
     "name": "stdout",
     "output_type": "stream",
     "text": [
      "\n",
      "\u001b[41mS\u001b[0mFFF\n",
      "FHFH\n",
      "FFFH\n",
      "HFFG\n"
     ]
    },
    {
     "data": {
      "application/vnd.jupyter.widget-view+json": {
       "model_id": "573c1c0fa5c741f0aeecf409946fb34d",
       "version_major": 2,
       "version_minor": 0
      },
      "text/plain": [
       "VBox(children=(HBox(children=(Button(disabled=True, style=ButtonStyle()), Button(description='UP', style=Butto…"
      ]
     },
     "metadata": {},
     "output_type": "display_data"
    }
   ],
   "source": [
    "env.reset()\n",
    "play_manually(env)"
   ]
  },
  {
   "cell_type": "code",
   "execution_count": 17,
   "id": "celtic-silver",
   "metadata": {},
   "outputs": [
    {
     "name": "stdout",
     "output_type": "stream",
     "text": [
      "\n",
      "\u001b[41mS\u001b[0mFFF\n",
      "FHFH\n",
      "FFFH\n",
      "HFFG\n"
     ]
    },
    {
     "data": {
      "application/vnd.jupyter.widget-view+json": {
       "model_id": "90fa2466833344d2a77d3c75fde558f5",
       "version_major": 2,
       "version_minor": 0
      },
      "text/plain": [
       "VBox(children=(HBox(children=(Button(disabled=True, style=ButtonStyle()), Button(description='UP', style=Butto…"
      ]
     },
     "metadata": {},
     "output_type": "display_data"
    }
   ],
   "source": [
    "env.reset()\n",
    "play_manually(env)"
   ]
  },
  {
   "cell_type": "code",
   "execution_count": 93,
   "id": "musical-columbus",
   "metadata": {},
   "outputs": [
    {
     "name": "stdout",
     "output_type": "stream",
     "text": [
      "  (Right)\n",
      "S\u001b[41mF\u001b[0mFF\n",
      "HFFF\n",
      "HFFF\n",
      "FFFG\n"
     ]
    },
    {
     "data": {
      "application/vnd.jupyter.widget-view+json": {
       "model_id": "396ad9b8451543239d342dcc1e95b5ad",
       "version_major": 2,
       "version_minor": 0
      },
      "text/plain": [
       "VBox(children=(HBox(children=(Button(disabled=True, style=ButtonStyle()), Button(description='UP', style=Butto…"
      ]
     },
     "metadata": {},
     "output_type": "display_data"
    }
   ],
   "source": [
    "# slipper太复杂，non-slipper太无聊。改变难度需要创建关卡，也就是不同的board。\n",
    "# 为了创建不同的level, 先从调整出错概率开始\n",
    "# LeveledFrozenLake是FrozenLake的子类， frozen_lake/environment.py\n",
    "# random生成随机board数据并且设置mistake概率\n",
    "random_level = LeveledFrozenLake.random(0.2)\n",
    "print(random_level)\n",
    "play_manually(random_level)\n",
    "\n",
    "#可以多玩几次，关卡每次都不一样，0.2的mistake比slipper简单（67%的mistake）\n"
   ]
  },
  {
   "cell_type": "code",
   "execution_count": 94,
   "id": "hazardous-netherlands",
   "metadata": {},
   "outputs": [
    {
     "name": "stdout",
     "output_type": "stream",
     "text": [
      "  (Down)\n",
      "S\u001b[41mH\u001b[0mFF\n",
      "FFFF\n",
      "FFFF\n",
      "FFFG\n"
     ]
    },
    {
     "data": {
      "application/vnd.jupyter.widget-view+json": {
       "model_id": "1bca05698efe457e86181880d71031a3",
       "version_major": 2,
       "version_minor": 0
      },
      "text/plain": [
       "VBox(children=(HBox(children=(Button(disabled=True, style=ButtonStyle()), Button(description='UP', style=Butto…"
      ]
     },
     "metadata": {},
     "output_type": "display_data"
    },
    {
     "name": "stdout",
     "output_type": "stream",
     "text": [
      "-- Lose --\n"
     ]
    }
   ],
   "source": [
    "# 可以调整mistake体验不同难度\n",
    "random_level = LeveledFrozenLake.random(0.9)\n",
    "play_manually(random_level)"
   ]
  },
  {
   "cell_type": "code",
   "execution_count": 95,
   "id": "entitled-understanding",
   "metadata": {},
   "outputs": [
    {
     "data": {
      "text/plain": [
       "0"
      ]
     },
     "execution_count": 95,
     "metadata": {},
     "output_type": "execute_result"
    }
   ],
   "source": [
    "env.reset()"
   ]
  },
  {
   "cell_type": "code",
   "execution_count": 21,
   "id": "indonesian-allocation",
   "metadata": {},
   "outputs": [
    {
     "name": "stdout",
     "output_type": "stream",
     "text": [
      "\n",
      "\u001b[41mS\u001b[0mFFF\n",
      "FFFF\n",
      "HHFF\n",
      "FHFG\n"
     ]
    },
    {
     "data": {
      "application/vnd.jupyter.widget-view+json": {
       "model_id": "375d0bb478414a05b43bf8ace703ce59",
       "version_major": 2,
       "version_minor": 0
      },
      "text/plain": [
       "VBox(children=(HBox(children=(Button(disabled=True, style=ButtonStyle()), Button(description='UP', style=Butto…"
      ]
     },
     "metadata": {},
     "output_type": "display_data"
    }
   ],
   "source": [
    "random_level = LeveledFrozenLake.random(0.2)\n",
    "play_manually(random_level)"
   ]
  },
  {
   "cell_type": "code",
   "execution_count": 96,
   "id": "metric-melbourne",
   "metadata": {},
   "outputs": [],
   "source": [
    "#创建random agent当作baseline\n",
    "def random_action(env: FrozenLakeEnv) -> int:\n",
    "    \"\"\"Choose a random action\"\"\"\n",
    "    action=np.random.randint(env.nA)\n",
    "    return action\n"
   ]
  },
  {
   "cell_type": "code",
   "execution_count": 97,
   "id": "delayed-lucas",
   "metadata": {},
   "outputs": [
    {
     "data": {
      "text/plain": [
       "0.0"
      ]
     },
     "execution_count": 97,
     "metadata": {},
     "output_type": "execute_result"
    }
   ],
   "source": [
    "# frozen_lake/evaluate.py, 内部会调用100次random_action或game结束\n",
    "# get_test_level() frozen_lake/environment.py, 使用mistake概率0.2生成board\n",
    "# 返回reward结果 0.0 or 1.0\n",
    "play_level(get_test_level(), random_action)\n"
   ]
  },
  {
   "cell_type": "code",
   "execution_count": 98,
   "id": "internal-burner",
   "metadata": {},
   "outputs": [],
   "source": [
    "# 随机agent都运行在相同的level,跑10,000次\n",
    "np.random.seed(1)\n",
    "n_attempts = 10000\n",
    "test_level = get_test_level()\n",
    "rewards = [\n",
    "    play_level(test_level, random_action)\n",
    "    for _ in range(n_attempts)\n",
    "]\n"
   ]
  },
  {
   "cell_type": "code",
   "execution_count": 99,
   "id": "sunset-playing",
   "metadata": {},
   "outputs": [
    {
     "data": {
      "text/plain": [
       "0.0142"
      ]
     },
     "execution_count": 99,
     "metadata": {},
     "output_type": "execute_result"
    }
   ],
   "source": [
    "sum(rewards) / n_attempts\n"
   ]
  },
  {
   "cell_type": "code",
   "execution_count": 100,
   "id": "green-tucson",
   "metadata": {},
   "outputs": [
    {
     "name": "stdout",
     "output_type": "stream",
     "text": [
      "\n",
      "\u001b[41mS\u001b[0mFFF\n",
      "FHFH\n",
      "FFFH\n",
      "HFFG\n"
     ]
    },
    {
     "data": {
      "text/plain": [
       "tensor([0., 0., 0., 0., 1., 0., 1., 0., 0., 0., 1., 1., 0., 0., 1., 0., 0., 0.,\n",
       "        1., 0., 0., 0.])"
      ]
     },
     "execution_count": 100,
     "metadata": {},
     "output_type": "execute_result"
    }
   ],
   "source": [
    "test_level = get_test_level()\n",
    "test_level.render()\n",
    "get_state(test_level)\n"
   ]
  },
  {
   "cell_type": "code",
   "execution_count": 101,
   "id": "residential-sugar",
   "metadata": {},
   "outputs": [],
   "source": [
    "config = DeepQConfig()\n"
   ]
  },
  {
   "cell_type": "code",
   "execution_count": 102,
   "id": "threatened-malpractice",
   "metadata": {},
   "outputs": [
    {
     "name": "stdout",
     "output_type": "stream",
     "text": [
      "MaxReward=0.63\n"
     ]
    }
   ],
   "source": [
    "local_policy, reward = train(config)\n"
   ]
  },
  {
   "cell_type": "code",
   "execution_count": 103,
   "id": "accompanied-match",
   "metadata": {},
   "outputs": [
    {
     "data": {
      "image/png": "[encoded data removed]",
      "text/plain": [
       "<Figure size 432x288 with 1 Axes>"
      ]
     },
     "metadata": {
      "needs_background": "light"
     },
     "output_type": "display_data"
    }
   ],
   "source": [
    "#查看training过程中moving average的reward\n",
    "# reward不太稳定，所以下一步需要使用更多的hyperparameter去实验。\n",
    "plt.plot(moving_average(reward))\n",
    "plt.ylabel('reward')\n",
    "plt.xlabel('episode');\n"
   ]
  },
  {
   "cell_type": "code",
   "execution_count": 104,
   "id": "greek-september",
   "metadata": {},
   "outputs": [
    {
     "data": {
      "text/plain": [
       "0.0687"
      ]
     },
     "execution_count": 104,
     "metadata": {},
     "output_type": "execute_result"
    }
   ],
   "source": [
    "# 使用得到的policy network进行测试，结果要比random agent好不少\n",
    "np.random.seed(1)\n",
    "n_attempts = 10000\n",
    "test_level = get_test_level()\n",
    "rewards = [\n",
    "    play_level(test_level, local_policy.learned_action)\n",
    "    for _ in range(n_attempts)\n",
    "]\n",
    "sum(rewards) / n_attempts\n"
   ]
  },
  {
   "cell_type": "code",
   "execution_count": 105,
   "id": "arabic-boards",
   "metadata": {},
   "outputs": [],
   "source": [
    "# 因为之前的policy不太稳定，还不像个真人。所以可以尝试用不同的超参数去training。 SageMaker就会很方便\n",
    "# frozen_lake/main.py requirements.txt source_dir\n",
    "estimator = PyTorch('main.py',\n",
    "                    source_dir='/home/ec2-user/SageMaker/frozen-lake/',\n",
    "                    instance_type='ml.m5.large',\n",
    "                    instance_count=1,\n",
    "                    framework_version='1.2.0',\n",
    "                    py_version='py3',\n",
    "                    role = get_execution_role()\n",
    ")\n"
   ]
  },
  {
   "cell_type": "code",
   "execution_count": 106,
   "id": "undefined-spice",
   "metadata": {},
   "outputs": [
    {
     "name": "stdout",
     "output_type": "stream",
     "text": [
      "2021-04-25 04:46:48 Starting - Starting the training job...\n",
      "2021-04-25 04:47:11 Starting - Launching requested ML instancesProfilerReport-1619326008: InProgress\n",
      "......\n",
      "2021-04-25 04:48:12 Starting - Preparing the instances for training......\n",
      "2021-04-25 04:49:12 Downloading - Downloading input data...\n",
      "2021-04-25 04:49:32 Training - Downloading the training image..\u001b[34mbash: cannot set terminal process group (-1): Inappropriate ioctl for device\u001b[0m\n",
      "\u001b[34mbash: no job control in this shell\u001b[0m\n",
      "\u001b[34m2021-04-25 04:49:54,157 sagemaker-containers INFO     Imported framework sagemaker_pytorch_container.training\u001b[0m\n",
      "\u001b[34m2021-04-25 04:49:54,160 sagemaker-containers INFO     No GPUs detected (normal if no gpus installed)\u001b[0m\n",
      "\u001b[34m2021-04-25 04:49:54,170 sagemaker_pytorch_container.training INFO     Block until all host DNS lookups succeed.\u001b[0m\n",
      "\u001b[34m2021-04-25 04:49:54,172 sagemaker_pytorch_container.training INFO     Invoking user training script.\u001b[0m\n",
      "\u001b[34m2021-04-25 04:49:54,468 sagemaker-containers INFO     Installing module with the following command:\u001b[0m\n",
      "\u001b[34m/opt/conda/bin/python -m pip install . -r requirements.txt\u001b[0m\n",
      "\u001b[34mProcessing /opt/ml/code\u001b[0m\n",
      "\u001b[34mProcessing /opt/ml/code\u001b[0m\n",
      "\u001b[34mRequirement already satisfied: dataclasses in /opt/conda/lib/python3.6/site-packages (from frozen-lake==0.1.0) (0.6)\u001b[0m\n",
      "\u001b[34mCollecting fire\n",
      "  Downloading https://files.pythonhosted.org/packages/11/07/a119a1aa04d37bc819940d95ed7e135a7dcca1c098123a3764a6dcace9e7/fire-0.4.0.tar.gz (87kB)\u001b[0m\n",
      "\u001b[34mCollecting gym\n",
      "  Downloading https://files.pythonhosted.org/packages/26/f2/e7ee20bf02b2d02263becba1c5ec4203fef7cfbd57759e040e51307173f4/gym-0.18.0.tar.gz (1.6MB)\u001b[0m\n",
      "\u001b[34mRequirement already satisfied: torch in /opt/conda/lib/python3.6/site-packages (from frozen-lake==0.1.0) (1.2.0)\u001b[0m\n",
      "\u001b[34mRequirement already satisfied: six in /opt/conda/lib/python3.6/site-packages (from fire->frozen-lake==0.1.0) (1.12.0)\u001b[0m\n",
      "\u001b[34mCollecting termcolor\n",
      "  Downloading https://files.pythonhosted.org/packages/8a/48/a76be51647d0eb9f10e2a4511bf3ffb8cc1e6b14e9e4fab46173aa79f981/termcolor-1.1.0.tar.gz\u001b[0m\n",
      "\u001b[34mRequirement already satisfied: scipy in /opt/conda/lib/python3.6/site-packages (from gym->frozen-lake==0.1.0) (1.3.0)\u001b[0m\n",
      "\u001b[34mRequirement already satisfied: numpy>=1.10.4 in /opt/conda/lib/python3.6/site-packages (from gym->frozen-lake==0.1.0) (1.16.4)\u001b[0m\n",
      "\u001b[34mCollecting pyglet<=1.5.0,>=1.4.0\n",
      "  Downloading https://files.pythonhosted.org/packages/70/ca/20aee170afe6011e295e34b27ad7d7ccd795faba581dd3c6f7cec237f561/pyglet-1.5.0-py2.py3-none-any.whl (1.0MB)\u001b[0m\n",
      "\u001b[34mRequirement already satisfied: Pillow<=7.2.0 in /opt/conda/lib/python3.6/site-packages (from gym->frozen-lake==0.1.0) (6.0.0)\u001b[0m\n",
      "\u001b[34mCollecting cloudpickle<1.7.0,>=1.2.0\n",
      "  Downloading https://files.pythonhosted.org/packages/e7/e3/898487e5dbeb612054cf2e0c188463acb358167fef749c53c8bb8918cea1/cloudpickle-1.6.0-py3-none-any.whl\u001b[0m\n",
      "\u001b[34mCollecting future\n",
      "  Downloading https://files.pythonhosted.org/packages/45/0b/38b06fd9b92dc2b68d58b75f900e97884c45bedd2ff83203d933cf5851c9/future-0.18.2.tar.gz (829kB)\u001b[0m\n",
      "\u001b[34mBuilding wheels for collected packages: frozen-lake, fire, gym, termcolor, future\n",
      "  Building wheel for frozen-lake (setup.py): started\u001b[0m\n",
      "\u001b[34m  Building wheel for frozen-lake (setup.py): finished with status 'done'\n",
      "  Created wheel for frozen-lake: filename=frozen_lake-0.1.0-cp36-none-any.whl size=6948 sha256=0975affd27b968ecd1d0ced68d8e6a5b6963b3cdbe6b6fd284015bb9214e120f\n",
      "  Stored in directory: /tmp/pip-ephem-wheel-cache-1rvj95bf/wheels/35/24/16/37574d11bf9bde50616c67372a334f94fa8356bc7164af8ca3\n",
      "  Building wheel for fire (setup.py): started\n",
      "  Building wheel for fire (setup.py): finished with status 'done'\n",
      "  Created wheel for fire: filename=fire-0.4.0-py2.py3-none-any.whl size=115928 sha256=319f0fb21d4d7cafdad45179e433be91a0f5772a755f0106424ae0b4d78f8975\n",
      "  Stored in directory: /root/.cache/pip/wheels/af/19/30/1ea0cad502dcb4e66ed5a690279628c827aea38bbbab75d5ed\n",
      "  Building wheel for gym (setup.py): started\u001b[0m\n",
      "\u001b[34m  Building wheel for gym (setup.py): finished with status 'done'\n",
      "  Created wheel for gym: filename=gym-0.18.0-cp36-none-any.whl size=1656449 sha256=5e3d9c8f4f9a44186cb9008fd384dc0450e04ad8a3cf54835a29402efe6be29f\n",
      "  Stored in directory: /root/.cache/pip/wheels/be/85/3b/480b828a4a697b37392740a040b8989f729d952b4e441a1877\n",
      "  Building wheel for termcolor (setup.py): started\n",
      "  Building wheel for termcolor (setup.py): finished with status 'done'\n",
      "  Created wheel for termcolor: filename=termcolor-1.1.0-cp36-none-any.whl size=4832 sha256=4c4caa144efe5298774ec76da0eabe68509c0e9caf7fc58b2b3b5b3460c6c470\n",
      "  Stored in directory: /root/.cache/pip/wheels/7c/06/54/bc84598ba1daf8f970247f550b175aaaee85f68b4b0c5ab2c6\n",
      "  Building wheel for future (setup.py): started\u001b[0m\n",
      "\u001b[34m  Building wheel for future (setup.py): finished with status 'done'\n",
      "  Created wheel for future: filename=future-0.18.2-cp36-none-any.whl size=491057 sha256=435a48bdb5e0ba0b9bd541fd1ee963372eada2780023b1bd3e592bd745f657eb\n",
      "  Stored in directory: /root/.cache/pip/wheels/8b/99/a0/81daf51dcd359a9377b110a8a886b3895921802d2fc1b2397e\u001b[0m\n",
      "\u001b[34mSuccessfully built frozen-lake fire gym termcolor future\u001b[0m\n",
      "\u001b[34mInstalling collected packages: termcolor, fire, future, pyglet, cloudpickle, gym, frozen-lake\u001b[0m\n",
      "\u001b[34m  Found existing installation: frozen-lake 0.1.0\n",
      "    Can't uninstall 'frozen-lake'. No files were found to uninstall.\u001b[0m\n",
      "\u001b[34mSuccessfully installed cloudpickle-1.6.0 fire-0.4.0 frozen-lake-0.1.0 future-0.18.2 gym-0.18.0 pyglet-1.5.0 termcolor-1.1.0\u001b[0m\n",
      "\u001b[34mWARNING: You are using pip version 19.3; however, version 21.1 is available.\u001b[0m\n",
      "\u001b[34mYou should consider upgrading via the 'pip install --upgrade pip' command.\u001b[0m\n",
      "\u001b[34m2021-04-25 04:50:02,381 sagemaker-containers INFO     No GPUs detected (normal if no gpus installed)\u001b[0m\n",
      "\u001b[34m2021-04-25 04:50:02,393 sagemaker-containers INFO     Invoking user script\n",
      "\u001b[0m\n",
      "\u001b[34mTraining Env:\n",
      "\u001b[0m\n",
      "\u001b[34m{\n",
      "    \"additional_framework_parameters\": {},\n",
      "    \"channel_input_dirs\": {},\n",
      "    \"current_host\": \"algo-1\",\n",
      "    \"framework_module\": \"sagemaker_pytorch_container.training:main\",\n",
      "    \"hosts\": [\n",
      "        \"algo-1\"\n",
      "    ],\n",
      "    \"hyperparameters\": {},\n",
      "    \"input_config_dir\": \"/opt/ml/input/config\",\n",
      "    \"input_data_config\": {},\n",
      "    \"input_dir\": \"/opt/ml/input\",\n",
      "    \"is_master\": true,\n",
      "    \"job_name\": \"pytorch-training-2021-04-25-04-46-47-754\",\n",
      "    \"log_level\": 20,\n",
      "    \"master_hostname\": \"algo-1\",\n",
      "    \"model_dir\": \"/opt/ml/model\",\n",
      "    \"module_dir\": \"s3://sagemaker-us-west-2-417024059460/pytorch-training-2021-04-25-04-46-47-754/source/sourcedir.tar.gz\",\n",
      "    \"module_name\": \"main\",\n",
      "    \"network_interface_name\": \"eth0\",\n",
      "    \"num_cpus\": 2,\n",
      "    \"num_gpus\": 0,\n",
      "    \"output_data_dir\": \"/opt/ml/output/data\",\n",
      "    \"output_dir\": \"/opt/ml/output\",\n",
      "    \"output_intermediate_dir\": \"/opt/ml/output/intermediate\",\n",
      "    \"resource_config\": {\n",
      "        \"current_host\": \"algo-1\",\n",
      "        \"hosts\": [\n",
      "            \"algo-1\"\n",
      "        ],\n",
      "        \"network_interface_name\": \"eth0\"\n",
      "    },\n",
      "    \"user_entry_point\": \"main.py\"\u001b[0m\n",
      "\u001b[34m}\n",
      "\u001b[0m\n",
      "\u001b[34mEnvironment variables:\n",
      "\u001b[0m\n",
      "\u001b[34mSM_HOSTS=[\"algo-1\"]\u001b[0m\n",
      "\u001b[34mSM_NETWORK_INTERFACE_NAME=eth0\u001b[0m\n",
      "\u001b[34mSM_HPS={}\u001b[0m\n",
      "\u001b[34mSM_USER_ENTRY_POINT=main.py\u001b[0m\n",
      "\u001b[34mSM_FRAMEWORK_PARAMS={}\u001b[0m\n",
      "\u001b[34mSM_RESOURCE_CONFIG={\"current_host\":\"algo-1\",\"hosts\":[\"algo-1\"],\"network_interface_name\":\"eth0\"}\u001b[0m\n",
      "\u001b[34mSM_INPUT_DATA_CONFIG={}\u001b[0m\n",
      "\u001b[34mSM_OUTPUT_DATA_DIR=/opt/ml/output/data\u001b[0m\n",
      "\u001b[34mSM_CHANNELS=[]\u001b[0m\n",
      "\u001b[34mSM_CURRENT_HOST=algo-1\u001b[0m\n",
      "\u001b[34mSM_MODULE_NAME=main\u001b[0m\n",
      "\u001b[34mSM_LOG_LEVEL=20\u001b[0m\n",
      "\u001b[34mSM_FRAMEWORK_MODULE=sagemaker_pytorch_container.training:main\u001b[0m\n",
      "\u001b[34mSM_INPUT_DIR=/opt/ml/input\u001b[0m\n",
      "\u001b[34mSM_INPUT_CONFIG_DIR=/opt/ml/input/config\u001b[0m\n",
      "\u001b[34mSM_OUTPUT_DIR=/opt/ml/output\u001b[0m\n",
      "\u001b[34mSM_NUM_CPUS=2\u001b[0m\n",
      "\u001b[34mSM_NUM_GPUS=0\u001b[0m\n",
      "\u001b[34mSM_MODEL_DIR=/opt/ml/model\u001b[0m\n",
      "\u001b[34mSM_MODULE_DIR=s3://sagemaker-us-west-2-417024059460/pytorch-training-2021-04-25-04-46-47-754/source/sourcedir.tar.gz\u001b[0m\n",
      "\u001b[34mSM_TRAINING_ENV={\"additional_framework_parameters\":{},\"channel_input_dirs\":{},\"current_host\":\"algo-1\",\"framework_module\":\"sagemaker_pytorch_container.training:main\",\"hosts\":[\"algo-1\"],\"hyperparameters\":{},\"input_config_dir\":\"/opt/ml/input/config\",\"input_data_config\":{},\"input_dir\":\"/opt/ml/input\",\"is_master\":true,\"job_name\":\"pytorch-training-2021-04-25-04-46-47-754\",\"log_level\":20,\"master_hostname\":\"algo-1\",\"model_dir\":\"/opt/ml/model\",\"module_dir\":\"s3://sagemaker-us-west-2-417024059460/pytorch-training-2021-04-25-04-46-47-754/source/sourcedir.tar.gz\",\"module_name\":\"main\",\"network_interface_name\":\"eth0\",\"num_cpus\":2,\"num_gpus\":0,\"output_data_dir\":\"/opt/ml/output/data\",\"output_dir\":\"/opt/ml/output\",\"output_intermediate_dir\":\"/opt/ml/output/intermediate\",\"resource_config\":{\"current_host\":\"algo-1\",\"hosts\":[\"algo-1\"],\"network_interface_name\":\"eth0\"},\"user_entry_point\":\"main.py\"}\u001b[0m\n",
      "\u001b[34mSM_USER_ARGS=[]\u001b[0m\n",
      "\u001b[34mSM_OUTPUT_INTERMEDIATE_DIR=/opt/ml/output/intermediate\u001b[0m\n",
      "\u001b[34mPYTHONPATH=/opt/conda/bin:/opt/conda/lib/python36.zip:/opt/conda/lib/python3.6:/opt/conda/lib/python3.6/lib-dynload:/opt/conda/lib/python3.6/site-packages\n",
      "\u001b[0m\n",
      "\u001b[34mInvoking script with the following command:\n",
      "\u001b[0m\n",
      "\u001b[34m/opt/conda/bin/python -m main\n",
      "\n",
      "\u001b[0m\n"
     ]
    },
    {
     "name": "stdout",
     "output_type": "stream",
     "text": [
      "\n",
      "2021-04-25 04:50:12 Training - Training image download completed. Training in progress.\u001b[34mMaxReward=0.63\u001b[0m\n",
      "\u001b[34m2021-04-25 04:50:19,712 sagemaker-containers INFO     Reporting training SUCCESS\u001b[0m\n",
      "\n",
      "2021-04-25 04:50:32 Uploading - Uploading generated training model\n",
      "2021-04-25 04:50:32 Completed - Training job completed\n",
      "Training seconds: 84\n",
      "Billable seconds: 84\n"
     ]
    }
   ],
   "source": [
    "estimator.fit()\n"
   ]
  },
  {
   "cell_type": "code",
   "execution_count": 111,
   "id": "whole-rental",
   "metadata": {},
   "outputs": [
    {
     "name": "stdout",
     "output_type": "stream",
     "text": [
      "download: s3://sagemaker-us-west-2-417024059460/pytorch-training-2021-04-25-04-46-47-754/output/model.tar.gz to ./model.tar.gz\n",
      "policy.pth\n",
      "reward.npz\n"
     ]
    }
   ],
   "source": [
    "# download到本地\n",
    "!aws s3 cp $estimator.model_data ./\n",
    "!tar xvzf model.tar.gz\n",
    "!rm model.tar.gz\n"
   ]
  },
  {
   "cell_type": "code",
   "execution_count": 107,
   "id": "cardiovascular-remove",
   "metadata": {},
   "outputs": [
    {
     "data": {
      "text/plain": [
       "<All keys matched successfully>"
      ]
     },
     "execution_count": 107,
     "metadata": {},
     "output_type": "execute_result"
    }
   ],
   "source": [
    "# 加载模型到内存\n",
    "sagemaker_policy = DeepQNetwork(config.n_state_features, config.n_actions)\n",
    "sagemaker_policy.load_state_dict(torch.load('policy.pth'))\n"
   ]
  },
  {
   "cell_type": "code",
   "execution_count": 49,
   "id": "naked-greensboro",
   "metadata": {},
   "outputs": [
    {
     "data": {
      "text/plain": [
       "0.0687"
      ]
     },
     "execution_count": 49,
     "metadata": {},
     "output_type": "execute_result"
    }
   ],
   "source": [
    "# 评估下性能，应该和刚才本地训练的模型效果一致，因为所有配置参数都一样\n",
    "np.random.seed(1)\n",
    "n_attempts = 10000\n",
    "test_level = get_test_level()\n",
    "rewards = [\n",
    "    play_level(test_level, sagemaker_policy.learned_action)\n",
    "    for _ in range(n_attempts)\n",
    "]\n",
    "sum(rewards) / n_attempts\n"
   ]
  },
  {
   "cell_type": "code",
   "execution_count": 50,
   "id": "comparable-queue",
   "metadata": {},
   "outputs": [],
   "source": [
    "# 使用不同的config，HyperparameterTunner\n",
    "# metric_definictions 代表metric和相应regex. hyperparameter_range指定超参数范围\n",
    "tuner = HyperparameterTuner(\n",
    "    estimator,\n",
    "    objective_metric_name='MaxReward',\n",
    "    metric_definitions=[\n",
    "        dict(\n",
    "            Name='MaxReward',\n",
    "            Regex='MaxReward=([0-9\\\\.]+)',\n",
    "        )\n",
    "    ],\n",
    "    hyperparameter_ranges=dict(\n",
    "        target_update=IntegerParameter(10, 500),\n",
    "        epsilon_start=ContinuousParameter(0.25, 0.75),\n",
    "    ),\n",
    "    max_jobs=20,\n",
    "    max_parallel_jobs=5,\n",
    ")\n"
   ]
  },
  {
   "cell_type": "code",
   "execution_count": null,
   "id": "juvenile-benjamin",
   "metadata": {},
   "outputs": [
    {
     "name": "stdout",
     "output_type": "stream",
     "text": [
      "....................................................................................................................................."
     ]
    }
   ],
   "source": [
    "tuner.fit()\n",
    "tuner.wait()\n"
   ]
  },
  {
   "cell_type": "code",
   "execution_count": 52,
   "id": "aggressive-hotel",
   "metadata": {},
   "outputs": [
    {
     "name": "stdout",
     "output_type": "stream",
     "text": [
      "download: s3://sagemaker-us-west-2-417024059460/pytorch-training-210421-1551-014-7ebaee5f/output/model.tar.gz to ./model.tar.gz\n",
      "policy.pth\n",
      "reward.npz\n"
     ]
    }
   ],
   "source": [
    "# 下载最好的model\n",
    "model_path = (\n",
    "    estimator.output_path +\n",
    "    tuner.best_training_job() +\n",
    "    '/output/model.tar.gz'\n",
    ")\n",
    "\n",
    "!aws s3 cp $model_path ./\n",
    "!tar xvzf model.tar.gz\n",
    "!rm model.tar.gz\n"
   ]
  },
  {
   "cell_type": "code",
   "execution_count": 53,
   "id": "sound-scholar",
   "metadata": {},
   "outputs": [
    {
     "data": {
      "text/plain": [
       "0.2333"
      ]
     },
     "execution_count": 53,
     "metadata": {},
     "output_type": "execute_result"
    }
   ],
   "source": [
    "# 加载到内存并评估\n",
    "# agent效果应该已经足够用于模拟人了，比之前本地训练的提高很多\n",
    "tuned_policy = DeepQNetwork(config.n_state_features, config.n_actions)\n",
    "tuned_policy.load_state_dict(torch.load('policy.pth'))\n",
    "\n",
    "n_attempts = 10000\n",
    "rewards = [\n",
    "    play_level(test_level, tuned_policy.learned_action)\n",
    "    for _ in range(n_attempts)\n",
    "]\n",
    "sum(rewards) / n_attempts\n"
   ]
  },
  {
   "cell_type": "code",
   "execution_count": 108,
   "id": "southeast-motorcycle",
   "metadata": {},
   "outputs": [
    {
     "name": "stdout",
     "output_type": "stream",
     "text": [
      "0\n",
      "1\n",
      "2\n",
      "3\n",
      "4\n",
      "5\n",
      "6\n",
      "7\n",
      "8\n",
      "9\n"
     ]
    }
   ],
   "source": [
    "# 3. 现在开始自动玩游戏，评估关卡难度\n",
    "\n",
    "# 创建10个level,每个level跑10,000次 \n",
    "np.random.seed(1)\n",
    "levels = []\n",
    "for i in range(10):\n",
    "    print(i)\n",
    "    level_config = Level.random(config.p_mistake_draw)\n",
    "    level = LeveledFrozenLake(level_config)\n",
    "    win_precentage = sum(\n",
    "        play_level(level, tuned_policy.learned_action) # play_level:frozen_lake/evaluate.py\n",
    "        for _ in range(n_attempts)\n",
    "    ) / n_attempts\n",
    "    n_holes = (np.array(list(''.join(level_config.board))) == 'H').sum()\n",
    "    levels.append(dict(\n",
    "        difficulty=1-win_precentage,\n",
    "        p_mistake=level_config.p_mistake,\n",
    "        n_holes=n_holes,\n",
    "        level=level,\n",
    "    ))\n",
    "\n",
    "levels = sorted(levels, key=lambda l: l['difficulty'])\n"
   ]
  },
  {
   "cell_type": "code",
   "execution_count": 55,
   "id": "settled-freedom",
   "metadata": {},
   "outputs": [
    {
     "data": {
      "text/html": [
       "<div>\n",
       "<style scoped>\n",
       "    .dataframe tbody tr th:only-of-type {\n",
       "        vertical-align: middle;\n",
       "    }\n",
       "\n",
       "    .dataframe tbody tr th {\n",
       "        vertical-align: top;\n",
       "    }\n",
       "\n",
       "    .dataframe thead th {\n",
       "        text-align: right;\n",
       "    }\n",
       "</style>\n",
       "<table border=\"1\" class=\"dataframe\">\n",
       "  <thead>\n",
       "    <tr style=\"text-align: right;\">\n",
       "      <th></th>\n",
       "      <th>difficulty</th>\n",
       "      <th>p_mistake</th>\n",
       "      <th>n_holes</th>\n",
       "    </tr>\n",
       "  </thead>\n",
       "  <tbody>\n",
       "    <tr>\n",
       "      <th>0</th>\n",
       "      <td>0.0000</td>\n",
       "      <td>0.004590</td>\n",
       "      <td>0</td>\n",
       "    </tr>\n",
       "    <tr>\n",
       "      <th>1</th>\n",
       "      <td>0.0476</td>\n",
       "      <td>0.041576</td>\n",
       "      <td>3</td>\n",
       "    </tr>\n",
       "    <tr>\n",
       "      <th>2</th>\n",
       "      <td>0.0627</td>\n",
       "      <td>0.107153</td>\n",
       "      <td>2</td>\n",
       "    </tr>\n",
       "    <tr>\n",
       "      <th>3</th>\n",
       "      <td>0.0698</td>\n",
       "      <td>0.166809</td>\n",
       "      <td>1</td>\n",
       "    </tr>\n",
       "    <tr>\n",
       "      <th>4</th>\n",
       "      <td>0.0866</td>\n",
       "      <td>0.025981</td>\n",
       "      <td>2</td>\n",
       "    </tr>\n",
       "    <tr>\n",
       "      <th>5</th>\n",
       "      <td>0.6874</td>\n",
       "      <td>0.207159</td>\n",
       "      <td>2</td>\n",
       "    </tr>\n",
       "    <tr>\n",
       "      <th>6</th>\n",
       "      <td>0.7309</td>\n",
       "      <td>0.391397</td>\n",
       "      <td>2</td>\n",
       "    </tr>\n",
       "    <tr>\n",
       "      <th>7</th>\n",
       "      <td>0.9302</td>\n",
       "      <td>0.385349</td>\n",
       "      <td>3</td>\n",
       "    </tr>\n",
       "    <tr>\n",
       "      <th>8</th>\n",
       "      <td>0.9307</td>\n",
       "      <td>0.012158</td>\n",
       "      <td>3</td>\n",
       "    </tr>\n",
       "    <tr>\n",
       "      <th>9</th>\n",
       "      <td>0.9969</td>\n",
       "      <td>0.304502</td>\n",
       "      <td>5</td>\n",
       "    </tr>\n",
       "  </tbody>\n",
       "</table>\n",
       "</div>"
      ],
      "text/plain": [
       "   difficulty  p_mistake  n_holes\n",
       "0      0.0000   0.004590        0\n",
       "1      0.0476   0.041576        3\n",
       "2      0.0627   0.107153        2\n",
       "3      0.0698   0.166809        1\n",
       "4      0.0866   0.025981        2\n",
       "5      0.6874   0.207159        2\n",
       "6      0.7309   0.391397        2\n",
       "7      0.9302   0.385349        3\n",
       "8      0.9307   0.012158        3\n",
       "9      0.9969   0.304502        5"
      ]
     },
     "execution_count": 55,
     "metadata": {},
     "output_type": "execute_result"
    }
   ],
   "source": [
    "# 按照难度排序输出level数据\n",
    "level_df = pd.DataFrame(levels)\n",
    "level_df = level_df.sort_values('difficulty')\n",
    "level_df[['difficulty', 'p_mistake', 'n_holes']]\n"
   ]
  },
  {
   "cell_type": "code",
   "execution_count": 109,
   "id": "further-attraction",
   "metadata": {},
   "outputs": [
    {
     "name": "stdout",
     "output_type": "stream",
     "text": [
      "  (Down)\n",
      "SHHF\n",
      "FFFH\n",
      "\u001b[41mH\u001b[0mHFF\n",
      "FFFG\n"
     ]
    },
    {
     "data": {
      "application/vnd.jupyter.widget-view+json": {
       "model_id": "442f1a9721ab4ab1a5874b8655515bce",
       "version_major": 2,
       "version_minor": 0
      },
      "text/plain": [
       "VBox(children=(HBox(children=(Button(disabled=True, style=ButtonStyle()), Button(description='UP', style=Butto…"
      ]
     },
     "metadata": {},
     "output_type": "display_data"
    },
    {
     "name": "stdout",
     "output_type": "stream",
     "text": [
      "-- Lose --\n"
     ]
    }
   ],
   "source": [
    "# 手动去玩一下这些level，确认难度\n",
    "easiest = 0\n",
    "hardest = 9\n",
    "\n",
    "play_manually(level_df.level[hardest])\n"
   ]
  },
  {
   "cell_type": "code",
   "execution_count": 110,
   "id": "dependent-expert",
   "metadata": {},
   "outputs": [
    {
     "name": "stdout",
     "output_type": "stream",
     "text": [
      "\n",
      "\u001b[41mS\u001b[0mHHF\n",
      "FFFH\n",
      "HHFF\n",
      "FFFG\n"
     ]
    },
    {
     "data": {
      "application/vnd.jupyter.widget-view+json": {
       "model_id": "d7c92d396dd34f5d9b4630f54ea67e7e",
       "version_major": 2,
       "version_minor": 0
      },
      "text/plain": [
       "VBox(children=(HBox(children=(Button(disabled=True, style=ButtonStyle()), Button(description='UP', style=Butto…"
      ]
     },
     "metadata": {},
     "output_type": "display_data"
    }
   ],
   "source": [
    "play_manually(level_df.level[hardest])"
   ]
  },
  {
   "cell_type": "code",
   "execution_count": 50,
   "id": "variable-laundry",
   "metadata": {},
   "outputs": [
    {
     "name": "stdout",
     "output_type": "stream",
     "text": [
      "  (Down)\n",
      "SFFF\n",
      "FFFF\n",
      "HHFF\n",
      "FHF\u001b[41mG\u001b[0m\n"
     ]
    },
    {
     "data": {
      "application/vnd.jupyter.widget-view+json": {
       "model_id": "a46f8f8101524e628ab136773694ba2f",
       "version_major": 2,
       "version_minor": 0
      },
      "text/plain": [
       "VBox(children=(HBox(children=(Button(disabled=True, style=ButtonStyle()), Button(description='UP', style=Butto…"
      ]
     },
     "metadata": {},
     "output_type": "display_data"
    },
    {
     "name": "stdout",
     "output_type": "stream",
     "text": [
      "-- Win --\n"
     ]
    }
   ],
   "source": [
    "easiest = 0\n",
    "hardest = 9\n",
    "\n",
    "play_manually(level_df.level[1])\n",
    "\n"
   ]
  },
  {
   "cell_type": "code",
   "execution_count": null,
   "id": "equivalent-chase",
   "metadata": {},
   "outputs": [],
   "source": [
    "# 使用RL创建了 agent并且可以自动进行关卡难度测试。相同的方法在其他游戏也是有效的"
   ]
  }
 ],
 "metadata": {
  "kernelspec": {
   "display_name": "conda_pytorch_p36",
   "language": "python",
   "name": "conda_pytorch_p36"
  },
  "language_info": {
   "codemirror_mode": {
    "name": "ipython",
    "version": 3
   },
   "file_extension": ".py",
   "mimetype": "text/x-python",
   "name": "python",
   "nbconvert_exporter": "python",
   "pygments_lexer": "ipython3",
   "version": "3.6.13"
  }
 },
 "nbformat": 4,
 "nbformat_minor": 5
}
